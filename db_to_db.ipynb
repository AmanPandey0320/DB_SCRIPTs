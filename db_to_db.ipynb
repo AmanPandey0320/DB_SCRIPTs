{
 "cells": [
  {
   "cell_type": "code",
   "execution_count": 2,
   "id": "de92f003",
   "metadata": {},
   "outputs": [],
   "source": [
    "import numpy as np\n",
    "import pandas as pd\n",
    "import mysql.connector as db\n",
    "from string import Template"
   ]
  },
  {
   "cell_type": "code",
   "execution_count": 39,
   "id": "b195c891",
   "metadata": {},
   "outputs": [],
   "source": [
    "#config\n",
    "#all cols of db_one should occur first in cols of db_two\n",
    "#extra data for extra cols in db_two that are not the part of db_one must be provided\n",
    "config = {\n",
    "    \"db_one_host\":\"<host>\",\n",
    "    \"db_one_user\":\"<user>\",\n",
    "    \"db_one_pass\":\"<password>\",\n",
    "    \"db_one_name\":\"<db name>\",\n",
    "    \"db_one_tble\":\"<table name>\",\n",
    "    \"db_one_cols\":[\"col1\",\"col2\",....],\n",
    "    \"db_two_host\":\"<host>\",\n",
    "    \"db_two_user\":\"<user>\",\n",
    "    \"db_two_pass\":\"<password>\",\n",
    "    \"db_two_name\":\"<db name>\",\n",
    "    \"db_two_tble\":\"<table>\",\n",
    "    \"db_two_cols\":[\"col1\",\"col2\",\"col3\",....],\n",
    "    \"extra_from_csv\":\"<Boolean>\",\n",
    "    \"csv_file_name\":\"<file_name>.csv\"\n",
    "}"
   ]
  },
  {
   "cell_type": "code",
   "execution_count": 6,
   "id": "8c57b4ba",
   "metadata": {},
   "outputs": [],
   "source": [
    "def get_db_one():\n",
    "    try:\n",
    "        my_db = db.connect(host=config[\"db_one_host\"],user=config[\"db_one_user\"],passwd=config[\"db_one_pass\"],database=config[\"db_one_name\"])\n",
    "        return my_db\n",
    "    except Exception as e:\n",
    "        print(\"error->\",e);\n",
    "        return None"
   ]
  },
  {
   "cell_type": "code",
   "execution_count": 7,
   "id": "334222fb",
   "metadata": {},
   "outputs": [],
   "source": [
    "def get_db_two():\n",
    "    try:\n",
    "        my_db = db.connect(host=config[\"db_two_host\"],user=config[\"db_two_user\"],passwd=config[\"db_two_pass\"],database=config[\"db_two_name\"])\n",
    "        return my_db\n",
    "    except Exception as e:\n",
    "        print(\"error->\",e);\n",
    "        return None"
   ]
  },
  {
   "cell_type": "code",
   "execution_count": 45,
   "id": "adc009c2",
   "metadata": {},
   "outputs": [],
   "source": [
    "def get_extra_data_from_csv():\n",
    "    try:\n",
    "        df = pd.read_csv(config[\"csv_file_name\"])\n",
    "        return df\n",
    "    except Exception as e:\n",
    "        print(\"error -> \",e);\n",
    "        return None"
   ]
  },
  {
   "cell_type": "code",
   "execution_count": 67,
   "id": "cda0eca3",
   "metadata": {},
   "outputs": [],
   "source": [
    "def get_sql():\n",
    "    try:\n",
    "        #fetching data\n",
    "        sql = Template('SELECT * FROM $table_name')\n",
    "        sql = sql.substitute({\"table_name\":config[\"db_one_tble\"]})\n",
    "        db_one = get_db_one()\n",
    "        if db_one == None:\n",
    "            print(\"error occured in db one\")\n",
    "            return None\n",
    "        cursor_one = db_one.cursor()\n",
    "        cursor_one.execute(sql)\n",
    "        my_data = cursor_one.fetchall()\n",
    "        \n",
    "        #handling extra col data\n",
    "        extra_cols = len(config[\"db_two_cols\"])-len(config[\"db_one_cols\"])\n",
    "        my_extra_data = None\n",
    "        if(config[\"extra_from_csv\"]):\n",
    "            my_extra_data = get_extra_data_from_csv()\n",
    "        else:\n",
    "            my_extra_data = []\n",
    "        \n",
    "        data_len = min(len(my_data),len(my_extra_data))\n",
    "        \n",
    "        #message\n",
    "        if data_len < len(my_data):\n",
    "            print(\"some rows from db one can't be inserted due to less data\")\n",
    "        elif data_len < len(my_extra_data):\n",
    "            print(\"some extra data can't be inserted due to less data in db one\")\n",
    "        \n",
    "        #creating sql for insert\n",
    "        sql = Template('INSERT INTO $table_name $col_name VALUES $values ')\n",
    "        col_name = '('+','.join(config[\"db_two_cols\"])+')'\n",
    "        \n",
    "        #binder in sal\n",
    "        binder = np.array(['%s']*len(config[\"db_two_cols\"]))\n",
    "        binder = '('+','.join(binder)+')'\n",
    "        \n",
    "        #values binder array\n",
    "        values = np.array([binder]*data_len);\n",
    "        \n",
    "        #binding values\n",
    "        bind = []\n",
    "        for i in range(data_len):\n",
    "            row = my_data[i]\n",
    "            for val in row:\n",
    "                bind.append(val)\n",
    "            \n",
    "            #binding extra data\n",
    "            if extra_cols > 0:\n",
    "                cols = config[\"db_two_cols\"][len(row):]\n",
    "                for col in cols:\n",
    "                    bind.append(my_extra_data[col][i])\n",
    "        values = ','.join(values)\n",
    "        sql = sql.substitute({\"table_name\":config[\"db_two_tble\"],\"col_name\":col_name,\"values\":values})\n",
    "        bind = tuple(bind)\n",
    "        return [sql,bind]\n",
    "    except Exception as e:\n",
    "        print(\"error get sql -> \",e)\n",
    "        return None"
   ]
  },
  {
   "cell_type": "code",
   "execution_count": 62,
   "id": "dfb61b63",
   "metadata": {},
   "outputs": [],
   "source": [
    "def migrate_data():\n",
    "    try:\n",
    "        [sql,bind] = get_sql()\n",
    "        db_two = get_db_two();\n",
    "        if(db_two == None):\n",
    "            print(\"Failed to connect to second db\")\n",
    "            return None\n",
    "        db_cursor = db_two.cursor()\n",
    "        db_cursor.execute(sql,bind);\n",
    "        db_two.commit();\n",
    "        return db_cursor.rowcount\n",
    "    except Exception as e:\n",
    "        print(\"error migrate -> \",e);\n",
    "        return None"
   ]
  },
  {
   "cell_type": "code",
   "execution_count": 68,
   "id": "7444a1b4",
   "metadata": {},
   "outputs": [
    {
     "name": "stdout",
     "output_type": "stream",
     "text": [
      "some rows from db one can't be inserted due to less data\n"
     ]
    },
    {
     "data": {
      "text/plain": [
       "46"
      ]
     },
     "execution_count": 68,
     "metadata": {},
     "output_type": "execute_result"
    }
   ],
   "source": [
    "migrate_data()"
   ]
  },
  {
   "cell_type": "code",
   "execution_count": null,
   "id": "16a5d696",
   "metadata": {},
   "outputs": [],
   "source": []
  }
 ],
 "metadata": {
  "kernelspec": {
   "display_name": "Python 3 (ipykernel)",
   "language": "python",
   "name": "python3"
  },
  "language_info": {
   "codemirror_mode": {
    "name": "ipython",
    "version": 3
   },
   "file_extension": ".py",
   "mimetype": "text/x-python",
   "name": "python",
   "nbconvert_exporter": "python",
   "pygments_lexer": "ipython3",
   "version": "3.8.3"
  }
 },
 "nbformat": 4,
 "nbformat_minor": 5
}
