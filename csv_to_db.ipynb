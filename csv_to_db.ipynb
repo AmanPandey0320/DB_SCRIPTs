{
 "cells": [
  {
   "cell_type": "code",
   "execution_count": 7,
   "id": "9e803573",
   "metadata": {},
   "outputs": [],
   "source": [
    "import numpy as np\n",
    "import pandas as pd\n",
    "import mysql.connector as db\n",
    "from string import Template"
   ]
  },
  {
   "cell_type": "code",
   "execution_count": 2,
   "id": "61b8939b",
   "metadata": {},
   "outputs": [],
   "source": [
    "#config\n",
    "config = {\n",
    "    \"table\":\"<table>\",\n",
    "    \"host\":\"<host>\",\n",
    "    \"user\":\"<user>\",\n",
    "    \"password\":\"<password>\",\n",
    "    \"database\":\"<db name>\",\n",
    "}"
   ]
  },
  {
   "cell_type": "code",
   "execution_count": 3,
   "id": "9392e553",
   "metadata": {},
   "outputs": [],
   "source": [
    "# connecting to database\n",
    "mydb = db.connect(host=config[\"host\"],user=config[\"user\"],passwd=config[\"password\"],database=config[\"database\"])"
   ]
  },
  {
   "cell_type": "code",
   "execution_count": 4,
   "id": "ac4d9147",
   "metadata": {},
   "outputs": [],
   "source": [
    "#read the csv file\n",
    "my_data = pd.read_csv(\"data.csv\")"
   ]
  },
  {
   "cell_type": "code",
   "execution_count": 56,
   "id": "eb0e9571",
   "metadata": {},
   "outputs": [],
   "source": [
    "# function to insert data\n",
    "def insert_data():\n",
    "    try:\n",
    "        # getting columns\n",
    "        db_cols = my_data.columns\n",
    "        col_names = '('+','.join(db_cols)+')'\n",
    "        \n",
    "        #making sql template\n",
    "        sql = Template('INSERT INTO $table_name $col_names VALUES $values')\n",
    "        values = np.array([])\n",
    "        for i in range(len(my_data)):\n",
    "            arr = np.array([])\n",
    "            for col in db_cols:\n",
    "                arr = np.append(arr,\"'\"+my_data[col][i]+\"'\")\n",
    "            values = np.append(values,['('+','.join(arr)+')'])\n",
    "        values = ','.join(values)\n",
    "        sql = sql.substitute({\"table_name\":config[\"table\"],\"col_names\":col_names,\"values\":values})\n",
    "        \n",
    "        #running sql\n",
    "        my_db_cursor = mydb.cursor()\n",
    "        my_db_cursor.execute(sql)\n",
    "        mydb.commit()\n",
    "    except Exception as e:\n",
    "        print(\"error occured\",e)"
   ]
  },
  {
   "cell_type": "code",
   "execution_count": 58,
   "id": "8b34127e",
   "metadata": {},
   "outputs": [],
   "source": [
    "insert_data()"
   ]
  },
  {
   "cell_type": "code",
   "execution_count": null,
   "id": "5d0cd591",
   "metadata": {},
   "outputs": [],
   "source": []
  }
 ],
 "metadata": {
  "kernelspec": {
   "display_name": "Python 3 (ipykernel)",
   "language": "python",
   "name": "python3"
  },
  "language_info": {
   "codemirror_mode": {
    "name": "ipython",
    "version": 3
   },
   "file_extension": ".py",
   "mimetype": "text/x-python",
   "name": "python",
   "nbconvert_exporter": "python",
   "pygments_lexer": "ipython3",
   "version": "3.8.3"
  }
 },
 "nbformat": 4,
 "nbformat_minor": 5
}
